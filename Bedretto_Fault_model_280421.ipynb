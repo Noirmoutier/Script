{
 "cells": [
  {
   "cell_type": "code",
   "execution_count": null,
   "metadata": {},
   "outputs": [],
   "source": [
    "import gempy as gp\n",
    "import numpy as np\n",
    "import matplotlib.pyplot as plt\n",
    "import os\n",
    "from pandas import *"
   ]
  },
  {
   "cell_type": "code",
   "execution_count": null,
   "metadata": {},
   "outputs": [],
   "source": []
  },
  {
   "cell_type": "code",
   "execution_count": null,
   "metadata": {},
   "outputs": [],
   "source": [
    "import pandas as pd\n",
    "data_path = '/Users/juliano/Google Drive/Master/Gempy/Model/Results/'\n",
    "\n",
    "data = pd.read_csv(os.path.join(data_path,\"FZ_66_points_duplicate.csv\"))\n",
    "data2 = pd.read_csv(os.path.join(data_path, \"FZ_66_orientations_duplicate.csv\"))"
   ]
  },
  {
   "cell_type": "code",
   "execution_count": null,
   "metadata": {
    "scrolled": true
   },
   "outputs": [],
   "source": [
    "data"
   ]
  },
  {
   "cell_type": "code",
   "execution_count": null,
   "metadata": {},
   "outputs": [],
   "source": [
    "print(data.dtypes)\n",
    "print(data2.dtypes)"
   ]
  },
  {
   "cell_type": "code",
   "execution_count": null,
   "metadata": {},
   "outputs": [],
   "source": []
  },
  {
   "cell_type": "code",
   "execution_count": null,
   "metadata": {},
   "outputs": [],
   "source": [
    "data_path = '/Users/juliano/Google Drive/Master/Gempy/Model/Results/'\n",
    "\n",
    "geo_model = gp.create_model('FZ_model')\n",
    "gp.init_data(geo_model, extent=[679330, 679530, 151805, 152005, 1390, 1590],\n",
    "             resolution=[50, 50, 50],\n",
    "             surface_points_df = data,\n",
    "             orientations_df = data2)"
   ]
  },
  {
   "cell_type": "code",
   "execution_count": null,
   "metadata": {},
   "outputs": [],
   "source": []
  },
  {
   "cell_type": "code",
   "execution_count": null,
   "metadata": {},
   "outputs": [],
   "source": [
    "#geo_model.surfaces.colors.change_colors({'39':'#fdfefe'})\n",
    "gp.map_stack_to_surfaces(geo_model,\n",
    "                         {\"Fault_66_B\": 'S15',\n",
    "                          \"Fault_66_C\": 'S21', \n",
    "                          \"Strat_Series\": ('basement')},\n",
    "                         remove_unused_series=True)"
   ]
  },
  {
   "cell_type": "code",
   "execution_count": null,
   "metadata": {},
   "outputs": [],
   "source": [
    "geo_model.set_is_fault([  \"Fault_66_B\",\n",
    "                          \"Fault_66_C\"], change_color=False)"
   ]
  },
  {
   "cell_type": "code",
   "execution_count": null,
   "metadata": {},
   "outputs": [],
   "source": []
  },
  {
   "cell_type": "code",
   "execution_count": null,
   "metadata": {},
   "outputs": [],
   "source": [
    "geo_model.faults.faults_relations_df"
   ]
  },
  {
   "cell_type": "code",
   "execution_count": null,
   "metadata": {},
   "outputs": [],
   "source": [
    "gpv = gp.plot_3d(geo_model, image=False, plotter_type='basic')"
   ]
  },
  {
   "cell_type": "code",
   "execution_count": null,
   "metadata": {},
   "outputs": [],
   "source": [
    "section_dict = {'section1': ([679530, 151805], [679330, 152005], [100, 100])}  # p1,p2,resolution\n",
    "geo_model.set_section_grid(section_dict)\n",
    "\n",
    "##Definiere entlang welcher Richtung die Section geplottet werden soll"
   ]
  },
  {
   "cell_type": "code",
   "execution_count": null,
   "metadata": {},
   "outputs": [],
   "source": [
    "gp.plot.plot_section_traces(geo_model)\n",
    "plt.show()"
   ]
  },
  {
   "cell_type": "code",
   "execution_count": null,
   "metadata": {},
   "outputs": [],
   "source": [
    "gp.set_interpolator(geo_model,\n",
    "                    compile_theano=True,\n",
    "                    theano_optimizer='fast_compile',\n",
    "                    )"
   ]
  },
  {
   "cell_type": "code",
   "execution_count": null,
   "metadata": {},
   "outputs": [],
   "source": [
    "gp.get_data(geo_model, 'kriging')"
   ]
  },
  {
   "cell_type": "code",
   "execution_count": null,
   "metadata": {},
   "outputs": [],
   "source": [
    "sol = gp.compute_model(geo_model)"
   ]
  },
  {
   "cell_type": "code",
   "execution_count": null,
   "metadata": {},
   "outputs": [],
   "source": [
    "geo_model.solutions.scalar_field_at_surface_points"
   ]
  },
  {
   "cell_type": "code",
   "execution_count": null,
   "metadata": {},
   "outputs": [],
   "source": [
    "gp.plot_2d(geo_model, section_names=['section1'], legend=False, show_lith=False)\n",
    "#plt.show()\n",
    "plt.savefig('FEAR_Site1_largeFZ_Jordan_CrossSecAlongTunnel.png')"
   ]
  },
  {
   "cell_type": "code",
   "execution_count": null,
   "metadata": {},
   "outputs": [],
   "source": [
    "gp.plot_2d(geo_model, cell_number=25, direction='z', legend=False, show_lith=False)\n",
    "#plt.show()\n",
    "plt.savefig('FEAR_Site1_largeFZ_Jordan_PlanAtTunnel.png')"
   ]
  },
  {
   "cell_type": "code",
   "execution_count": null,
   "metadata": {},
   "outputs": [],
   "source": [
    "ver, sim = gp.get_surfaces(geo_model)\n",
    "gpv = gp.plot_3d(geo_model, image=False, plotter_type='basic')"
   ]
  },
  {
   "cell_type": "markdown",
   "metadata": {},
   "source": [
    "## Information Entropy"
   ]
  },
  {
   "cell_type": "code",
   "execution_count": null,
   "metadata": {},
   "outputs": [],
   "source": [
    "# execute this cell a couple of times and see how location of fault in section changes\n",
    "\n",
    "mask_surfpoints = geo_model.surface_points.df.surface.isin(['fault']) # perturb only fault\n",
    "indexes = geo_model.surface_points.df[mask_surfpoints].index\n",
    "\n",
    "rand_val = np.random.uniform(-100, 100)\n",
    "we = geo_model.surface_points.df['X'].values[mask_surfpoints] + rand_val\n",
    "ns = geo_model.surface_points.df['Y'].values[mask_surfpoints] + rand_val\n",
    "d = geo_model.surface_points.df['Z'][mask_surfpoints] + rand_val\n",
    "geo_model.modify_surface_points(indexes, X=we, Y=ns, Z=d)\n",
    "\n",
    "geo_model.update_to_interpolator()\n",
    "\n",
    "_=gp.compute_model(geo_model, compute_mesh=False)\n",
    "\n",
    "#_=gp.plot.plot_section_by_name(geo_model, 's1', show_data=True, radius=50)"
   ]
  },
  {
   "cell_type": "code",
   "execution_count": null,
   "metadata": {},
   "outputs": [],
   "source": [
    "from tqdm import tqdm_notebook as tqdm"
   ]
  },
  {
   "cell_type": "code",
   "execution_count": null,
   "metadata": {},
   "outputs": [],
   "source": [
    "# unique lith ids\n",
    "lith_id = np.unique(np.round(geo_model.solutions.sections[0]).astype(int))\n",
    "\n",
    "# setup solution arrays\n",
    "geomap  = np.round(geo_model.solutions.geological_map[0]).astype(int).ravel()\n",
    "section1  = np.round(geo_model.solutions.sections[0]).astype(int).ravel()\n",
    "block = np.round(geo_model.solutions.lith_block).astype(int)\n",
    "\n",
    "#init counters\n",
    "count_map = np.zeros((len(lith_id), geomap.shape[0]))\n",
    "count_section = np.zeros((len(lith_id), section1.shape[0]))\n",
    "count_block = np.zeros((len(lith_id), block.shape[0]))"
   ]
  },
  {
   "cell_type": "code",
   "execution_count": null,
   "metadata": {},
   "outputs": [],
   "source": [
    "mask_surfpoints = geo_model.surface_points.df.surface.isin(['fault'])\n",
    "indexes = geo_model.surface_points.df[mask_surfpoints].index"
   ]
  },
  {
   "cell_type": "code",
   "execution_count": null,
   "metadata": {},
   "outputs": [],
   "source": [
    "# copy initial dataframes to reset data before every iteration\n",
    "import copy\n",
    "\n",
    "west_east = copy.copy(geo_model.surface_points.df['X'])\n",
    "north_south = copy.copy(geo_model.surface_points.df['Y'])\n",
    "depth = copy.copy(geo_model.surface_points.df['Z'])\n",
    "\n",
    "surfindexes = list(geo_model.surface_points.df.index)"
   ]
  },
  {
   "cell_type": "code",
   "execution_count": null,
   "metadata": {},
   "outputs": [],
   "source": [
    "n_iter=13 #number of iterations\n",
    "\n",
    "for i in tqdm(range(n_iter)):\n",
    "    plt.cla()\n",
    "    plt.clf()\n",
    "    \n",
    "    # make virgin again\n",
    "    geo_model.modify_surface_points(surfindexes, X=west_east, Y=north_south, Z=depth)\n",
    "    geo_model.update_to_interpolator()\n",
    "    \n",
    "    # perturb data\n",
    "    rand_val = np.random.uniform(-100, 100)\n",
    "    we = west_east[mask_surfpoints] + rand_val\n",
    "    geo_model.modify_surface_points(indexes, X=we)\n",
    "\n",
    "    geo_model.update_to_interpolator()\n",
    "\n",
    "    _=gp.compute_model(geo_model, compute_mesh=False)\n",
    "    \n",
    "    \n",
    "    ##### calculate and update probability fields #####\n",
    "    geomap  = np.round(geo_model.solutions.geological_map[0]).astype(int)[0]\n",
    "    section1  = np.round(geo_model.solutions.sections[0]).astype(int)[0]\n",
    "    block = np.round(geo_model.solutions.lith_block).astype(int)\n",
    "    \n",
    "    \n",
    "    for i, l_id in enumerate(lith_id): #enumerate through all liths\n",
    "        count_map[i][geomap == l_id] += 1 #sum up frequency\n",
    "        count_section[i][section1 == l_id] += 1 \n",
    "        count_block[i][block == l_id] +=1 #block is raveled so no need for indexing\n",
    "\n",
    "#### finish probability calculation and save as numpy arrays ####\n",
    "prob_map = count_map/n_iter\n",
    "prob_section = count_section/n_iter\n",
    "prob_block = count_block/n_iter"
   ]
  },
  {
   "cell_type": "code",
   "execution_count": null,
   "metadata": {},
   "outputs": [],
   "source": []
  }
 ],
 "metadata": {
  "kernelspec": {
   "display_name": "Python 3",
   "language": "python",
   "name": "python3"
  },
  "language_info": {
   "codemirror_mode": {
    "name": "ipython",
    "version": 3
   },
   "file_extension": ".py",
   "mimetype": "text/x-python",
   "name": "python",
   "nbconvert_exporter": "python",
   "pygments_lexer": "ipython3",
   "version": "3.7.7"
  }
 },
 "nbformat": 4,
 "nbformat_minor": 4
}
